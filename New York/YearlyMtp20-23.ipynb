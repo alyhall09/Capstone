{
 "cells": [
  {
   "cell_type": "code",
   "execution_count": 2,
   "id": "efa03c49-16f1-49e4-b101-0923999dbc41",
   "metadata": {},
   "outputs": [],
   "source": [
    "import pandas as pd\n",
    "import numpy as np\n",
    "\n",
    "import pytz\n",
    "import astral as ast\n",
    "from astral import LocationInfo\n",
    "from astral.sun import sun\n",
    "from datetime import datetime, timedelta, date"
   ]
  },
  {
   "cell_type": "code",
   "execution_count": 3,
   "id": "cc2de66c-3ce8-47dd-91af-fcf1e82a69f2",
   "metadata": {},
   "outputs": [],
   "source": [
    "# read in with pandas\n",
    "winter1 = pd.read_csv ('mtp20-21data.txt')\n",
    "winter2 = pd.read_csv ('mtp21-22data.txt')\n",
    "winter3 = pd.read_csv ('mtp22-23data.txt')"
   ]
  },
  {
   "cell_type": "code",
   "execution_count": 4,
   "id": "aa220958-a440-4b52-8670-f6228613bc11",
   "metadata": {},
   "outputs": [],
   "source": [
    "# rename columns\n",
    "winter1 = winter1.rename(columns = {'valid': 'datetime', 'p01m': 'precip(mm)'})\n",
    "winter2 = winter2.rename(columns = {'valid': 'datetime', 'p01m': 'precip(mm)'})\n",
    "winter3 = winter3.rename(columns = {'valid': 'datetime', 'p01m': 'precip(mm)'})\n",
    "\n",
    "# datetime format\n",
    "winter1['datetime'] = pd.to_datetime(winter1['datetime'])\n",
    "winter2['datetime'] = pd.to_datetime(winter2['datetime'])\n",
    "winter3['datetime'] = pd.to_datetime(winter3['datetime'])"
   ]
  },
  {
   "cell_type": "code",
   "execution_count": 5,
   "id": "02861934-a851-4293-9bf4-6e42a4ad420f",
   "metadata": {},
   "outputs": [],
   "source": [
    "# mask out days without precipitation\n",
    "codes = ['GR','GS','IC','PL','PY','RA','SG','SH','SN','SQ','TS','UP']\n",
    "\n",
    "mask1 = winter1['wxcodes'].apply(lambda x: any(sub in x for sub in codes))\n",
    "mask2 = winter2['wxcodes'].apply(lambda x: any(sub in x for sub in codes))\n",
    "mask3 = winter3['wxcodes'].apply(lambda x: any(sub in x for sub in codes))\n",
    "\n",
    "precip_days1 = winter1[mask1]\n",
    "precip_days2 = winter2[mask2]\n",
    "precip_days3 = winter3[mask3]"
   ]
  },
  {
   "cell_type": "code",
   "execution_count": 6,
   "id": "2e432e74-2b04-4a80-af08-bab312cef889",
   "metadata": {},
   "outputs": [
    {
     "data": {
      "text/html": [
       "<div>\n",
       "<style scoped>\n",
       "    .dataframe tbody tr th:only-of-type {\n",
       "        vertical-align: middle;\n",
       "    }\n",
       "\n",
       "    .dataframe tbody tr th {\n",
       "        vertical-align: top;\n",
       "    }\n",
       "\n",
       "    .dataframe thead th {\n",
       "        text-align: right;\n",
       "    }\n",
       "</style>\n",
       "<table border=\"1\" class=\"dataframe\">\n",
       "  <thead>\n",
       "    <tr style=\"text-align: right;\">\n",
       "      <th></th>\n",
       "      <th>station</th>\n",
       "      <th>datetime</th>\n",
       "      <th>precip(mm)</th>\n",
       "      <th>wxcodes</th>\n",
       "    </tr>\n",
       "  </thead>\n",
       "  <tbody>\n",
       "  </tbody>\n",
       "</table>\n",
       "</div>"
      ],
      "text/plain": [
       "Empty DataFrame\n",
       "Columns: [station, datetime, precip(mm), wxcodes]\n",
       "Index: []"
      ]
     },
     "execution_count": 6,
     "metadata": {},
     "output_type": "execute_result"
    }
   ],
   "source": [
    "precip_days2"
   ]
  },
  {
   "cell_type": "code",
   "execution_count": 7,
   "id": "ba61182e-b5d1-46d1-9bcc-2931a4b49de9",
   "metadata": {},
   "outputs": [],
   "source": [
    "# replace Trace with 0.0001\n",
    "precip_days1['precip(mm)'] = precip_days1['precip(mm)'].replace('T', 0.0001)\n",
    "precip_days2['precip(mm)'] = precip_days2['precip(mm)'].replace('T', 0.0001)\n",
    "precip_days3['precip(mm)'] = precip_days3['precip(mm)'].replace('T', 0.0001)"
   ]
  },
  {
   "cell_type": "code",
   "execution_count": 8,
   "id": "6971bd9c-d5ad-44dc-86d0-7833f8abab87",
   "metadata": {},
   "outputs": [
    {
     "data": {
      "text/html": [
       "<div>\n",
       "<style scoped>\n",
       "    .dataframe tbody tr th:only-of-type {\n",
       "        vertical-align: middle;\n",
       "    }\n",
       "\n",
       "    .dataframe tbody tr th {\n",
       "        vertical-align: top;\n",
       "    }\n",
       "\n",
       "    .dataframe thead th {\n",
       "        text-align: right;\n",
       "    }\n",
       "</style>\n",
       "<table border=\"1\" class=\"dataframe\">\n",
       "  <thead>\n",
       "    <tr style=\"text-align: right;\">\n",
       "      <th></th>\n",
       "      <th>station</th>\n",
       "      <th>datetime</th>\n",
       "      <th>precip(mm)</th>\n",
       "      <th>wxcodes</th>\n",
       "    </tr>\n",
       "  </thead>\n",
       "  <tbody>\n",
       "  </tbody>\n",
       "</table>\n",
       "</div>"
      ],
      "text/plain": [
       "Empty DataFrame\n",
       "Columns: [station, datetime, precip(mm), wxcodes]\n",
       "Index: []"
      ]
     },
     "execution_count": 8,
     "metadata": {},
     "output_type": "execute_result"
    }
   ],
   "source": [
    "precip_days3[775:785]"
   ]
  },
  {
   "cell_type": "code",
   "execution_count": 9,
   "id": "f7bf26c0-c6ec-4220-bf4d-029b4023bb64",
   "metadata": {},
   "outputs": [],
   "source": [
    "# make sure numeric form\n",
    "precip_days1['precip(mm)'] = pd.to_numeric(precip_days1['precip(mm)'])\n",
    "precip_days2['precip(mm)'] = pd.to_numeric(precip_days2['precip(mm)'])\n",
    "precip_days3['precip(mm)'] = pd.to_numeric(precip_days3['precip(mm)'])"
   ]
  },
  {
   "cell_type": "code",
   "execution_count": 10,
   "id": "96430996-0103-4a0b-a934-5999414d9dc4",
   "metadata": {},
   "outputs": [],
   "source": [
    "# eliminate special weather \n",
    "precip_days1 = precip_days1[precip_days1['datetime'].dt.minute == 54]\n",
    "precip_days2 = precip_days2[precip_days2['datetime'].dt.minute == 54]\n",
    "precip_days3 = precip_days3[precip_days3['datetime'].dt.minute == 54]"
   ]
  },
  {
   "cell_type": "code",
   "execution_count": 11,
   "id": "31727dbe-474e-4e9d-af86-972e35a35a47",
   "metadata": {},
   "outputs": [
    {
     "data": {
      "text/plain": [
       "station               object\n",
       "datetime      datetime64[ns]\n",
       "precip(mm)           float64\n",
       "wxcodes               object\n",
       "dtype: object"
      ]
     },
     "execution_count": 11,
     "metadata": {},
     "output_type": "execute_result"
    }
   ],
   "source": [
    "precip_days1.dtypes"
   ]
  },
  {
   "cell_type": "code",
   "execution_count": 12,
   "id": "1733092c-435e-4512-bfce-9a46cdc5d820",
   "metadata": {},
   "outputs": [],
   "source": [
    "precip_days1['date'] = precip_days1['datetime'].dt.date"
   ]
  },
  {
   "cell_type": "code",
   "execution_count": 13,
   "id": "6fa5a02b-6f8a-40c7-ae94-7226bee0b0ae",
   "metadata": {},
   "outputs": [
    {
     "data": {
      "text/plain": [
       "LocationInfo(name='MontaukNew York', region='England', timezone='America/New_York', latitude=41.0359, longitude=-71.9545)"
      ]
     },
     "execution_count": 13,
     "metadata": {},
     "output_type": "execute_result"
    }
   ],
   "source": [
    "mtp = LocationInfo(\n",
    "    'Montauk' 'New York', \n",
    "    latitude= 41.0359,\n",
    "    longitude= -71.9545, \n",
    "    timezone='America/New_York'\n",
    ")\n",
    "\n",
    "mtp"
   ]
  },
  {
   "cell_type": "code",
   "execution_count": 14,
   "id": "9354cc9b-4150-4bd8-8fad-388832a24d95",
   "metadata": {},
   "outputs": [],
   "source": [
    "# create a date range (winter 1)\n",
    "date_range1 = pd.date_range(start='2020-12-01', end='2021-2-28', tz='America/New_York')\n",
    "\n",
    "# lists to store sunrise and sunset times\n",
    "sunrise_times1 = []\n",
    "sunset_times1 = []\n",
    "\n",
    "# Calculate sunrise and sunset for each date\n",
    "for date in date_range1:\n",
    "    s = sun(mtp.observer, date=date)\n",
    "    \n",
    "    sunrise_times1.append(s['sunrise'])\n",
    "    sunset_times1.append(s['sunset'])\n",
    "\n",
    "# df with results\n",
    "sun_times1 = pd.DataFrame({\n",
    "    'datetime': date_range1.date,\n",
    "    'sunrise': sunrise_times1,\n",
    "    'sunset': sunset_times1\n",
    "})\n",
    "\n",
    "sun_times1['sunrise'] = pd.to_datetime(sun_times1['sunrise'])\n",
    "sun_times1['sunset'] = pd.to_datetime(sun_times1['sunset'])"
   ]
  },
  {
   "cell_type": "code",
   "execution_count": 15,
   "id": "582f8b04-5a87-416d-9832-ef85e54fc03f",
   "metadata": {},
   "outputs": [],
   "source": [
    "# create a date range (winter 2)\n",
    "date_range2 = pd.date_range(start='2021-12-01', end='2022-2-28', tz='America/New_York')\n",
    "\n",
    "# lists to store sunrise and sunset times\n",
    "sunrise_times2 = []\n",
    "sunset_times2 = []\n",
    "\n",
    "# Calculate sunrise and sunset for each date\n",
    "for date in date_range2:\n",
    "    s = sun(mtp.observer, date=date)\n",
    "    \n",
    "    sunrise_times2.append(s['sunrise'])\n",
    "    sunset_times2.append(s['sunset'])\n",
    "\n",
    "# df with results\n",
    "sun_times2 = pd.DataFrame({\n",
    "    'datetime': date_range2.date,\n",
    "    'sunrise': sunrise_times2,\n",
    "    'sunset': sunset_times2\n",
    "})\n",
    "\n",
    "sun_times2['sunrise'] = pd.to_datetime(sun_times2['sunrise'])\n",
    "sun_times2['sunset'] = pd.to_datetime(sun_times2['sunset'])"
   ]
  },
  {
   "cell_type": "code",
   "execution_count": 16,
   "id": "58b27a6e-1ebf-4d5c-a3af-b29f4a261ee7",
   "metadata": {},
   "outputs": [],
   "source": [
    "# create a date range (winter 3)\n",
    "date_range3 = pd.date_range(start='2022-12-01', end='2023-2-28', tz='America/New_York')\n",
    "\n",
    "# lists to store sunrise and sunset times\n",
    "sunrise_times3 = []\n",
    "sunset_times3 = []\n",
    "\n",
    "# Calculate sunrise and sunset for each date\n",
    "for date in date_range3:\n",
    "    s = sun(mtp.observer, date=date)\n",
    "    \n",
    "    sunrise_times3.append(s['sunrise'])\n",
    "    sunset_times3.append(s['sunset'])\n",
    "\n",
    "# df with results\n",
    "sun_times3 = pd.DataFrame({\n",
    "    'datetime': date_range3.date,\n",
    "    'sunrise': sunrise_times3,\n",
    "    'sunset': sunset_times3\n",
    "})\n",
    "\n",
    "sun_times3['sunrise'] = pd.to_datetime(sun_times3['sunrise'])\n",
    "sun_times3['sunset'] = pd.to_datetime(sun_times3['sunset'])"
   ]
  },
  {
   "cell_type": "code",
   "execution_count": 17,
   "id": "4cfb6512-300f-47ad-801b-c4af8feadf3c",
   "metadata": {},
   "outputs": [
    {
     "name": "stdout",
     "output_type": "stream",
     "text": [
      "                sunrise               sunset        date\n",
      "0   2020-12-01 06:54:11  2020-12-01 16:19:45  2020-12-01\n",
      "1   2020-12-02 06:55:12  2020-12-02 16:19:31  2020-12-02\n",
      "2   2020-12-03 06:56:12  2020-12-03 16:19:20  2020-12-03\n",
      "3   2020-12-04 06:57:10  2020-12-04 16:19:12  2020-12-04\n",
      "4   2020-12-05 06:58:08  2020-12-05 16:19:05  2020-12-05\n",
      "..                  ...                  ...         ...\n",
      "85  2021-02-24 06:29:25  2021-02-24 17:33:05  2021-02-24\n",
      "86  2021-02-25 06:27:55  2021-02-25 17:34:15  2021-02-25\n",
      "87  2021-02-26 06:26:25  2021-02-26 17:35:25  2021-02-26\n",
      "88  2021-02-27 06:24:54  2021-02-27 17:36:35  2021-02-27\n",
      "89  2021-02-28 06:23:22  2021-02-28 17:37:44  2021-02-28\n",
      "\n",
      "[90 rows x 3 columns]\n"
     ]
    }
   ],
   "source": [
    "# add sunrise and sunset times (winter1)\n",
    "sun_times1['sunrise'] = sun_times1['sunrise'].dt.strftime('%Y-%m-%d %H:%M:%S')\n",
    "sun_times1['sunset'] = sun_times1['sunset'].dt.strftime('%Y-%m-%d %H:%M:%S')\n",
    "\n",
    "sun_times1['date'] = sun_times1['datetime']\n",
    "sun_times1 = sun_times1.drop(columns=['datetime'])\n",
    "\n",
    "print(sun_times1)"
   ]
  },
  {
   "cell_type": "code",
   "execution_count": 18,
   "id": "1c93f488-7ff7-43e4-99bc-04599ecf0cfc",
   "metadata": {},
   "outputs": [
    {
     "name": "stdout",
     "output_type": "stream",
     "text": [
      "                sunrise               sunset        date\n",
      "0   2021-12-01 06:53:57  2021-12-01 16:19:48  2021-12-01\n",
      "1   2021-12-02 06:54:58  2021-12-02 16:19:34  2021-12-02\n",
      "2   2021-12-03 06:55:58  2021-12-03 16:19:22  2021-12-03\n",
      "3   2021-12-04 06:56:56  2021-12-04 16:19:13  2021-12-04\n",
      "4   2021-12-05 06:57:54  2021-12-05 16:19:06  2021-12-05\n",
      "..                  ...                  ...         ...\n",
      "85  2022-02-24 06:29:46  2022-02-24 17:32:47  2022-02-24\n",
      "86  2022-02-25 06:28:17  2022-02-25 17:33:58  2022-02-25\n",
      "87  2022-02-26 06:26:47  2022-02-26 17:35:08  2022-02-26\n",
      "88  2022-02-27 06:25:16  2022-02-27 17:36:18  2022-02-27\n",
      "89  2022-02-28 06:23:45  2022-02-28 17:37:28  2022-02-28\n",
      "\n",
      "[90 rows x 3 columns]\n"
     ]
    }
   ],
   "source": [
    "# add sunrise and sunset times (winter2)\n",
    "\n",
    "sun_times2['sunrise'] = sun_times2['sunrise'].dt.strftime('%Y-%m-%d %H:%M:%S')\n",
    "sun_times2['sunset'] = sun_times2['sunset'].dt.strftime('%Y-%m-%d %H:%M:%S')\n",
    "\n",
    "sun_times2['date'] = sun_times2['datetime']\n",
    "sun_times2 = sun_times2.drop(columns=['datetime'])\n",
    "\n",
    "print(sun_times2)"
   ]
  },
  {
   "cell_type": "code",
   "execution_count": 19,
   "id": "07950101-6cd6-42a1-a77a-4a67cfe6ea3b",
   "metadata": {},
   "outputs": [
    {
     "name": "stdout",
     "output_type": "stream",
     "text": [
      "                sunrise               sunset        date\n",
      "0   2022-12-01 06:53:42  2022-12-01 16:19:52  2022-12-01\n",
      "1   2022-12-02 06:54:43  2022-12-02 16:19:37  2022-12-02\n",
      "2   2022-12-03 06:55:43  2022-12-03 16:19:25  2022-12-03\n",
      "3   2022-12-04 06:56:42  2022-12-04 16:19:15  2022-12-04\n",
      "4   2022-12-05 06:57:40  2022-12-05 16:19:07  2022-12-05\n",
      "..                  ...                  ...         ...\n",
      "85  2023-02-24 06:30:08  2023-02-24 17:32:30  2023-02-24\n",
      "86  2023-02-25 06:28:39  2023-02-25 17:33:41  2023-02-25\n",
      "87  2023-02-26 06:27:09  2023-02-26 17:34:51  2023-02-26\n",
      "88  2023-02-27 06:25:38  2023-02-27 17:36:01  2023-02-27\n",
      "89  2023-02-28 06:24:07  2023-02-28 17:37:11  2023-02-28\n",
      "\n",
      "[90 rows x 3 columns]\n"
     ]
    }
   ],
   "source": [
    "# add sunrise and sunset times (winter3)\n",
    "\n",
    "sun_times3['sunrise'] = sun_times3['sunrise'].dt.strftime('%Y-%m-%d %H:%M:%S')\n",
    "sun_times3['sunset'] = sun_times3['sunset'].dt.strftime('%Y-%m-%d %H:%M:%S')\n",
    "\n",
    "sun_times3['date'] = sun_times3['datetime']\n",
    "sun_times3 = sun_times3.drop(columns=['datetime'])\n",
    "\n",
    "print(sun_times3)"
   ]
  },
  {
   "cell_type": "code",
   "execution_count": 20,
   "id": "8de3d34f-db51-4f6a-873c-82ef82ecd10f",
   "metadata": {},
   "outputs": [],
   "source": [
    "# add 'date' column to all dataframes\n",
    "precip_days1['date'] = precip_days1['datetime'].dt.date\n",
    "precip_days2['date'] = precip_days2['datetime'].dt.date\n",
    "precip_days3['date'] = precip_days3['datetime'].dt.date"
   ]
  },
  {
   "cell_type": "code",
   "execution_count": 21,
   "id": "99dcd456-811d-4322-a50d-f89f3c7f7e37",
   "metadata": {},
   "outputs": [
    {
     "data": {
      "text/html": [
       "<div>\n",
       "<style scoped>\n",
       "    .dataframe tbody tr th:only-of-type {\n",
       "        vertical-align: middle;\n",
       "    }\n",
       "\n",
       "    .dataframe tbody tr th {\n",
       "        vertical-align: top;\n",
       "    }\n",
       "\n",
       "    .dataframe thead th {\n",
       "        text-align: right;\n",
       "    }\n",
       "</style>\n",
       "<table border=\"1\" class=\"dataframe\">\n",
       "  <thead>\n",
       "    <tr style=\"text-align: right;\">\n",
       "      <th></th>\n",
       "      <th>station</th>\n",
       "      <th>datetime</th>\n",
       "      <th>precip(mm)</th>\n",
       "      <th>wxcodes</th>\n",
       "      <th>date</th>\n",
       "      <th>sunrise</th>\n",
       "      <th>sunset</th>\n",
       "    </tr>\n",
       "  </thead>\n",
       "  <tbody>\n",
       "  </tbody>\n",
       "</table>\n",
       "</div>"
      ],
      "text/plain": [
       "Empty DataFrame\n",
       "Columns: [station, datetime, precip(mm), wxcodes, date, sunrise, sunset]\n",
       "Index: []"
      ]
     },
     "execution_count": 21,
     "metadata": {},
     "output_type": "execute_result"
    }
   ],
   "source": [
    "# merge precip days and sunrise/sunset times on date \n",
    "merged1 = pd.merge(precip_days1, sun_times1, on='date')\n",
    "\n",
    "merged1"
   ]
  },
  {
   "cell_type": "code",
   "execution_count": 22,
   "id": "43dafb11-c8d7-4667-834f-37dda8fe3a5e",
   "metadata": {
    "scrolled": true
   },
   "outputs": [
    {
     "data": {
      "text/html": [
       "<div>\n",
       "<style scoped>\n",
       "    .dataframe tbody tr th:only-of-type {\n",
       "        vertical-align: middle;\n",
       "    }\n",
       "\n",
       "    .dataframe tbody tr th {\n",
       "        vertical-align: top;\n",
       "    }\n",
       "\n",
       "    .dataframe thead th {\n",
       "        text-align: right;\n",
       "    }\n",
       "</style>\n",
       "<table border=\"1\" class=\"dataframe\">\n",
       "  <thead>\n",
       "    <tr style=\"text-align: right;\">\n",
       "      <th></th>\n",
       "      <th>station</th>\n",
       "      <th>datetime</th>\n",
       "      <th>precip(mm)</th>\n",
       "      <th>wxcodes</th>\n",
       "      <th>date</th>\n",
       "      <th>sunrise</th>\n",
       "      <th>sunset</th>\n",
       "    </tr>\n",
       "  </thead>\n",
       "  <tbody>\n",
       "  </tbody>\n",
       "</table>\n",
       "</div>"
      ],
      "text/plain": [
       "Empty DataFrame\n",
       "Columns: [station, datetime, precip(mm), wxcodes, date, sunrise, sunset]\n",
       "Index: []"
      ]
     },
     "execution_count": 22,
     "metadata": {},
     "output_type": "execute_result"
    }
   ],
   "source": [
    "# merge precip days and sunrise/sunset times on date \n",
    "merged2 = pd.merge(precip_days2, sun_times2, on='date')\n",
    "\n",
    "merged2"
   ]
  },
  {
   "cell_type": "code",
   "execution_count": 23,
   "id": "c6b0bda0-950e-4d6e-98c4-0ba707a2d3bc",
   "metadata": {},
   "outputs": [
    {
     "data": {
      "text/html": [
       "<div>\n",
       "<style scoped>\n",
       "    .dataframe tbody tr th:only-of-type {\n",
       "        vertical-align: middle;\n",
       "    }\n",
       "\n",
       "    .dataframe tbody tr th {\n",
       "        vertical-align: top;\n",
       "    }\n",
       "\n",
       "    .dataframe thead th {\n",
       "        text-align: right;\n",
       "    }\n",
       "</style>\n",
       "<table border=\"1\" class=\"dataframe\">\n",
       "  <thead>\n",
       "    <tr style=\"text-align: right;\">\n",
       "      <th></th>\n",
       "      <th>station</th>\n",
       "      <th>datetime</th>\n",
       "      <th>precip(mm)</th>\n",
       "      <th>wxcodes</th>\n",
       "      <th>date</th>\n",
       "      <th>sunrise</th>\n",
       "      <th>sunset</th>\n",
       "    </tr>\n",
       "  </thead>\n",
       "  <tbody>\n",
       "  </tbody>\n",
       "</table>\n",
       "</div>"
      ],
      "text/plain": [
       "Empty DataFrame\n",
       "Columns: [station, datetime, precip(mm), wxcodes, date, sunrise, sunset]\n",
       "Index: []"
      ]
     },
     "execution_count": 23,
     "metadata": {},
     "output_type": "execute_result"
    }
   ],
   "source": [
    "# merge precip days and sunrise/sunset times on date \n",
    "merged3 = pd.merge(precip_days3, sun_times3, on='date')\n",
    "\n",
    "merged3"
   ]
  },
  {
   "cell_type": "code",
   "execution_count": 24,
   "id": "b870b4cf-8488-4625-9f5b-9b228d355c60",
   "metadata": {},
   "outputs": [
    {
     "data": {
      "text/html": [
       "<div>\n",
       "<style scoped>\n",
       "    .dataframe tbody tr th:only-of-type {\n",
       "        vertical-align: middle;\n",
       "    }\n",
       "\n",
       "    .dataframe tbody tr th {\n",
       "        vertical-align: top;\n",
       "    }\n",
       "\n",
       "    .dataframe thead th {\n",
       "        text-align: right;\n",
       "    }\n",
       "</style>\n",
       "<table border=\"1\" class=\"dataframe\">\n",
       "  <thead>\n",
       "    <tr style=\"text-align: right;\">\n",
       "      <th></th>\n",
       "      <th>station</th>\n",
       "      <th>datetime</th>\n",
       "      <th>precip(mm)</th>\n",
       "      <th>wxcodes</th>\n",
       "      <th>date</th>\n",
       "      <th>sunrise</th>\n",
       "      <th>sunset</th>\n",
       "    </tr>\n",
       "  </thead>\n",
       "  <tbody>\n",
       "  </tbody>\n",
       "</table>\n",
       "</div>"
      ],
      "text/plain": [
       "Empty DataFrame\n",
       "Columns: [station, datetime, precip(mm), wxcodes, date, sunrise, sunset]\n",
       "Index: []"
      ]
     },
     "execution_count": 24,
     "metadata": {},
     "output_type": "execute_result"
    }
   ],
   "source": [
    "# filter out only times after sunrise & before sunset \n",
    "\n",
    "days1 = merged1[(merged1['datetime'] >= merged1['sunrise']) & (merged1['datetime'] <= merged1['sunset'])]\n",
    "days2 = merged2[(merged2['datetime'] >= merged2['sunrise']) & (merged2['datetime'] <= merged2['sunset'])]\n",
    "days3 = merged3[(merged3['datetime'] >= merged3['sunrise']) & (merged3['datetime'] <= merged3['sunset'])]\n",
    "\n",
    "\n",
    "days1"
   ]
  },
  {
   "cell_type": "code",
   "execution_count": 25,
   "id": "e9b1e62f-be7f-4e27-b229-a6f88c46587b",
   "metadata": {},
   "outputs": [],
   "source": [
    "# filter out transition hours\n",
    "days1['sunrise'] = pd.to_datetime(days1['sunrise'])\n",
    "days1['sunset'] = pd.to_datetime(days1['sunset'])\n",
    "\n",
    "days1['sunrise+1'] = days1['sunrise'] + timedelta(hours = 1)\n",
    "days1['sunset-1'] = days1['sunset'] - timedelta(hours = 1)\n",
    "\n",
    "days1 = days1[days1['datetime'] <= days1['sunset-1']]\n",
    "days1 = days1[days1['datetime'] >= days1['sunrise+1']]\n",
    "\n",
    "\n",
    "\n",
    "days2['sunrise'] = pd.to_datetime(days2['sunrise'])\n",
    "days2['sunset'] = pd.to_datetime(days2['sunset'])\n",
    "\n",
    "days2['sunrise+1'] = days2['sunrise'] + timedelta(hours = 1)\n",
    "days2['sunset-1'] = days2['sunset'] - timedelta(hours = 1)\n",
    "\n",
    "days2 = days2[days2['datetime'] <= days2['sunset-1']]\n",
    "days2 = days2[days2['datetime'] >= days2['sunrise+1']]\n",
    "\n",
    "\n",
    "\n",
    "days3['sunrise'] = pd.to_datetime(days3['sunrise'])\n",
    "days3['sunset'] = pd.to_datetime(days3['sunset'])\n",
    "\n",
    "days3['sunrise+1'] = days3['sunrise'] + timedelta(hours = 1)\n",
    "days3['sunset-1'] = days3['sunset'] - timedelta(hours = 1)\n",
    "\n",
    "days3 = days3[days3['datetime'] <= days3['sunset-1']]\n",
    "days3 = days3[days3['datetime'] >= days3['sunrise+1']]"
   ]
  },
  {
   "cell_type": "code",
   "execution_count": 26,
   "id": "df60be4f-8b6a-43dc-8150-7915b11e550a",
   "metadata": {},
   "outputs": [
    {
     "data": {
      "text/html": [
       "<div>\n",
       "<style scoped>\n",
       "    .dataframe tbody tr th:only-of-type {\n",
       "        vertical-align: middle;\n",
       "    }\n",
       "\n",
       "    .dataframe tbody tr th {\n",
       "        vertical-align: top;\n",
       "    }\n",
       "\n",
       "    .dataframe thead th {\n",
       "        text-align: right;\n",
       "    }\n",
       "</style>\n",
       "<table border=\"1\" class=\"dataframe\">\n",
       "  <thead>\n",
       "    <tr style=\"text-align: right;\">\n",
       "      <th></th>\n",
       "      <th>station</th>\n",
       "      <th>datetime</th>\n",
       "      <th>precip(mm)</th>\n",
       "      <th>wxcodes</th>\n",
       "      <th>date</th>\n",
       "      <th>sunrise</th>\n",
       "      <th>sunset</th>\n",
       "      <th>sunrise+1</th>\n",
       "      <th>sunset-1</th>\n",
       "    </tr>\n",
       "  </thead>\n",
       "  <tbody>\n",
       "  </tbody>\n",
       "</table>\n",
       "</div>"
      ],
      "text/plain": [
       "Empty DataFrame\n",
       "Columns: [station, datetime, precip(mm), wxcodes, date, sunrise, sunset, sunrise+1, sunset-1]\n",
       "Index: []"
      ]
     },
     "execution_count": 26,
     "metadata": {},
     "output_type": "execute_result"
    }
   ],
   "source": [
    "days1"
   ]
  },
  {
   "cell_type": "code",
   "execution_count": 27,
   "id": "202cd5ed-3dd7-4341-b738-fc2d2c095a5c",
   "metadata": {},
   "outputs": [],
   "source": [
    "# find total precip over each year\n",
    "day_total1 = days1['precip(mm)'].sum()\n",
    "day_total2 = days2['precip(mm)'].sum()\n",
    "day_total3 = days3['precip(mm)'].sum()\n",
    "\n",
    "# total number of obs each year\n",
    "day_rows1 = days1.shape[0]\n",
    "day_rows2 = days2.shape[0]\n",
    "day_rows3 = days3.shape[0]"
   ]
  },
  {
   "cell_type": "code",
   "execution_count": 28,
   "id": "ab51adbf-af79-4c2a-a558-1ab2981befa3",
   "metadata": {},
   "outputs": [
    {
     "name": "stderr",
     "output_type": "stream",
     "text": [
      "C:\\Users\\alyha\\AppData\\Local\\Temp\\ipykernel_15524\\3440771090.py:1: RuntimeWarning: invalid value encountered in scalar divide\n",
      "  day_precip_per_hour1 = day_total1/ day_rows1\n",
      "C:\\Users\\alyha\\AppData\\Local\\Temp\\ipykernel_15524\\3440771090.py:2: RuntimeWarning: invalid value encountered in scalar divide\n",
      "  day_precip_per_hour2 = day_total2/ day_rows2\n",
      "C:\\Users\\alyha\\AppData\\Local\\Temp\\ipykernel_15524\\3440771090.py:3: RuntimeWarning: invalid value encountered in scalar divide\n",
      "  day_precip_per_hour3 = day_total3/ day_rows3\n"
     ]
    }
   ],
   "source": [
    "day_precip_per_hour1 = day_total1/ day_rows1\n",
    "day_precip_per_hour2 = day_total2/ day_rows2\n",
    "day_precip_per_hour3 = day_total3/ day_rows3\n"
   ]
  },
  {
   "cell_type": "code",
   "execution_count": 29,
   "id": "f5e917b5-4d22-420c-b8f9-9acba14445ff",
   "metadata": {},
   "outputs": [
    {
     "name": "stdout",
     "output_type": "stream",
     "text": [
      "2020-2021: nan\n",
      "2021-2022: nan\n",
      "2022-2023: nan\n"
     ]
    }
   ],
   "source": [
    "print('2020-2021:', day_precip_per_hour1)\n",
    "print('2021-2022:', day_precip_per_hour2)\n",
    "print('2022-2023:', day_precip_per_hour3)"
   ]
  },
  {
   "cell_type": "code",
   "execution_count": 30,
   "id": "207b870c-a63e-482e-91f5-6c8ca91dff82",
   "metadata": {},
   "outputs": [
    {
     "data": {
      "text/html": [
       "<div>\n",
       "<style scoped>\n",
       "    .dataframe tbody tr th:only-of-type {\n",
       "        vertical-align: middle;\n",
       "    }\n",
       "\n",
       "    .dataframe tbody tr th {\n",
       "        vertical-align: top;\n",
       "    }\n",
       "\n",
       "    .dataframe thead th {\n",
       "        text-align: right;\n",
       "    }\n",
       "</style>\n",
       "<table border=\"1\" class=\"dataframe\">\n",
       "  <thead>\n",
       "    <tr style=\"text-align: right;\">\n",
       "      <th></th>\n",
       "      <th>station</th>\n",
       "      <th>datetime</th>\n",
       "      <th>precip(mm)</th>\n",
       "      <th>wxcodes</th>\n",
       "      <th>date</th>\n",
       "      <th>sunrise</th>\n",
       "      <th>sunset</th>\n",
       "    </tr>\n",
       "  </thead>\n",
       "  <tbody>\n",
       "  </tbody>\n",
       "</table>\n",
       "</div>"
      ],
      "text/plain": [
       "Empty DataFrame\n",
       "Columns: [station, datetime, precip(mm), wxcodes, date, sunrise, sunset]\n",
       "Index: []"
      ]
     },
     "execution_count": 30,
     "metadata": {},
     "output_type": "execute_result"
    }
   ],
   "source": [
    "# filter out only times after sunset & before NEXT sunrise \n",
    "\n",
    "nights1 = merged1[(merged1['datetime'] < merged1['sunrise']) | (merged1['datetime'] > merged1['sunset'])]\n",
    "nights2 = merged2[(merged2['datetime'] < merged2['sunrise']) | (merged2['datetime'] > merged2['sunset'])]\n",
    "nights3 = merged3[(merged3['datetime'] < merged3['sunrise']) | (merged3['datetime'] > merged3['sunset'])]\n",
    "\n",
    "nights1"
   ]
  },
  {
   "cell_type": "code",
   "execution_count": 31,
   "id": "4ab82503-26a0-4450-821a-d5abb9c8e7ca",
   "metadata": {
    "scrolled": true
   },
   "outputs": [],
   "source": [
    "# filter out transition hours\n",
    "nights1['sunrise'] = pd.to_datetime(nights1['sunrise'])\n",
    "nights1['sunset'] = pd.to_datetime(nights1['sunset'])\n",
    "\n",
    "nights1['sunrise-1'] = nights1['sunrise'] - timedelta(hours = 1) + timedelta(days = 1)\n",
    "nights1['sunset+1'] = nights1['sunset'] + timedelta(hours = 1)\n",
    "\n",
    "nights1 = nights1[nights1['datetime'] >= nights1['sunset+1']]\n",
    "nights1 = nights1[nights1['datetime'] <= nights1['sunrise-1']]\n",
    "\n",
    "\n",
    "\n",
    "nights2['sunrise'] = pd.to_datetime(nights2['sunrise'])\n",
    "nights2['sunset'] = pd.to_datetime(nights2['sunset'])\n",
    "\n",
    "nights2['sunrise-1'] = nights2['sunrise'] - timedelta(hours = 1) + timedelta(days = 1)\n",
    "nights2['sunset+1'] = nights2['sunset'] + timedelta(hours = 1)\n",
    "\n",
    "nights2 = nights2[nights2['datetime'] >= nights2['sunset+1']]\n",
    "nights2 = nights2[nights2['datetime'] <= nights2['sunrise-1']]\n",
    "\n",
    "\n",
    "\n",
    "nights3['sunrise'] = pd.to_datetime(nights3['sunrise'])\n",
    "nights3['sunset'] = pd.to_datetime(nights3['sunset'])\n",
    "\n",
    "nights3['sunrise-1'] = nights3['sunrise'] - timedelta(hours = 1) + timedelta(days = 1)\n",
    "nights3['sunset+1'] = nights3['sunset'] + timedelta(hours = 1)\n",
    "\n",
    "nights3 = nights3[nights3['datetime'] >= nights3['sunset+1']]\n",
    "nights3 = nights3[nights3['datetime'] <= nights3['sunrise-1']]\n"
   ]
  },
  {
   "cell_type": "code",
   "execution_count": 32,
   "id": "a05fe8d6-a247-4662-b953-117be9c9adb5",
   "metadata": {},
   "outputs": [],
   "source": [
    "# find total precip over each year\n",
    "night_total1 = nights1['precip(mm)'].sum()\n",
    "night_total2 = nights2['precip(mm)'].sum()\n",
    "night_total3 = nights3['precip(mm)'].sum()\n",
    "\n",
    "# total number of obs each year\n",
    "night_rows1 = nights1.shape[0]\n",
    "night_rows2 = nights2.shape[0]\n",
    "night_rows3 = nights3.shape[0]"
   ]
  },
  {
   "cell_type": "code",
   "execution_count": 33,
   "id": "aa4722d8-3dc3-444b-ac66-9cc5420dbf75",
   "metadata": {},
   "outputs": [
    {
     "name": "stderr",
     "output_type": "stream",
     "text": [
      "C:\\Users\\alyha\\AppData\\Local\\Temp\\ipykernel_15524\\2704645644.py:1: RuntimeWarning: invalid value encountered in scalar divide\n",
      "  night_precip_per_hour1 = night_total1/ night_rows1\n",
      "C:\\Users\\alyha\\AppData\\Local\\Temp\\ipykernel_15524\\2704645644.py:2: RuntimeWarning: invalid value encountered in scalar divide\n",
      "  night_precip_per_hour2 = night_total2/ night_rows2\n",
      "C:\\Users\\alyha\\AppData\\Local\\Temp\\ipykernel_15524\\2704645644.py:3: RuntimeWarning: invalid value encountered in scalar divide\n",
      "  night_precip_per_hour3 = night_total3/ night_rows3\n"
     ]
    }
   ],
   "source": [
    "night_precip_per_hour1 = night_total1/ night_rows1\n",
    "night_precip_per_hour2 = night_total2/ night_rows2\n",
    "night_precip_per_hour3 = night_total3/ night_rows3"
   ]
  },
  {
   "cell_type": "code",
   "execution_count": 34,
   "id": "ad378374-358e-43cd-a2a2-1e41cb5d660b",
   "metadata": {},
   "outputs": [
    {
     "name": "stdout",
     "output_type": "stream",
     "text": [
      "2020-2021: nan\n",
      "2021-2022: nan\n",
      "2022-2023: nan\n"
     ]
    }
   ],
   "source": [
    "print('2020-2021:', night_precip_per_hour1)\n",
    "print('2021-2022:', night_precip_per_hour2)\n",
    "print('2022-2023:', night_precip_per_hour3)"
   ]
  },
  {
   "cell_type": "code",
   "execution_count": 35,
   "id": "6f8b83e9-ba8b-4e64-b374-ab66810514b9",
   "metadata": {},
   "outputs": [],
   "source": [
    "data = pd.concat([days1, nights1, days2, nights2, days3, nights3])\n",
    "\n",
    "data['date'] = pd.to_datetime(data['date'])\n",
    "data['month'] = data['date'].dt.month\n",
    "\n",
    "data['state'] = 'NY'\n",
    "\n",
    "data.to_csv('mtp.csv', index=False)"
   ]
  },
  {
   "cell_type": "code",
   "execution_count": null,
   "id": "96954dfe-d47d-4684-af5d-893dc6c4ea46",
   "metadata": {},
   "outputs": [],
   "source": []
  }
 ],
 "metadata": {
  "kernelspec": {
   "display_name": "Python 3 (ipykernel)",
   "language": "python",
   "name": "python3"
  },
  "language_info": {
   "codemirror_mode": {
    "name": "ipython",
    "version": 3
   },
   "file_extension": ".py",
   "mimetype": "text/x-python",
   "name": "python",
   "nbconvert_exporter": "python",
   "pygments_lexer": "ipython3",
   "version": "3.12.3"
  }
 },
 "nbformat": 4,
 "nbformat_minor": 5
}
