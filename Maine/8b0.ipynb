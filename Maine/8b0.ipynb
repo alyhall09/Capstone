{
 "cells": [
  {
   "cell_type": "code",
   "execution_count": 1,
   "id": "efa03c49-16f1-49e4-b101-0923999dbc41",
   "metadata": {},
   "outputs": [],
   "source": [
    "import pandas as pd\n",
    "import numpy as np\n",
    "\n",
    "import pytz\n",
    "import astral as ast\n",
    "from astral import LocationInfo\n",
    "from astral.sun import sun\n",
    "from datetime import datetime, timedelta, date"
   ]
  },
  {
   "cell_type": "code",
   "execution_count": 16,
   "id": "cc2de66c-3ce8-47dd-91af-fcf1e82a69f2",
   "metadata": {},
   "outputs": [
    {
     "ename": "FileNotFoundError",
     "evalue": "[Errno 2] No such file or directory: '40B20-21data.txt'",
     "output_type": "error",
     "traceback": [
      "\u001b[1;31m---------------------------------------------------------------------------\u001b[0m",
      "\u001b[1;31mFileNotFoundError\u001b[0m                         Traceback (most recent call last)",
      "Cell \u001b[1;32mIn[16], line 2\u001b[0m\n\u001b[0;32m      1\u001b[0m \u001b[38;5;66;03m# read in with pandas\u001b[39;00m\n\u001b[1;32m----> 2\u001b[0m winter1 \u001b[38;5;241m=\u001b[39m pd\u001b[38;5;241m.\u001b[39mread_csv (\u001b[38;5;124m'\u001b[39m\u001b[38;5;124m40B20-21data.txt\u001b[39m\u001b[38;5;124m'\u001b[39m)\n\u001b[0;32m      3\u001b[0m winter2 \u001b[38;5;241m=\u001b[39m pd\u001b[38;5;241m.\u001b[39mread_csv (\u001b[38;5;124m'\u001b[39m\u001b[38;5;124m40B21-22data.txt\u001b[39m\u001b[38;5;124m'\u001b[39m)\n\u001b[0;32m      4\u001b[0m winter3 \u001b[38;5;241m=\u001b[39m pd\u001b[38;5;241m.\u001b[39mread_csv (\u001b[38;5;124m'\u001b[39m\u001b[38;5;124m40B22-23data.txt\u001b[39m\u001b[38;5;124m'\u001b[39m)\n",
      "File \u001b[1;32m~\\anaconda3\\Lib\\site-packages\\pandas\\io\\parsers\\readers.py:1026\u001b[0m, in \u001b[0;36mread_csv\u001b[1;34m(filepath_or_buffer, sep, delimiter, header, names, index_col, usecols, dtype, engine, converters, true_values, false_values, skipinitialspace, skiprows, skipfooter, nrows, na_values, keep_default_na, na_filter, verbose, skip_blank_lines, parse_dates, infer_datetime_format, keep_date_col, date_parser, date_format, dayfirst, cache_dates, iterator, chunksize, compression, thousands, decimal, lineterminator, quotechar, quoting, doublequote, escapechar, comment, encoding, encoding_errors, dialect, on_bad_lines, delim_whitespace, low_memory, memory_map, float_precision, storage_options, dtype_backend)\u001b[0m\n\u001b[0;32m   1013\u001b[0m kwds_defaults \u001b[38;5;241m=\u001b[39m _refine_defaults_read(\n\u001b[0;32m   1014\u001b[0m     dialect,\n\u001b[0;32m   1015\u001b[0m     delimiter,\n\u001b[1;32m   (...)\u001b[0m\n\u001b[0;32m   1022\u001b[0m     dtype_backend\u001b[38;5;241m=\u001b[39mdtype_backend,\n\u001b[0;32m   1023\u001b[0m )\n\u001b[0;32m   1024\u001b[0m kwds\u001b[38;5;241m.\u001b[39mupdate(kwds_defaults)\n\u001b[1;32m-> 1026\u001b[0m \u001b[38;5;28;01mreturn\u001b[39;00m _read(filepath_or_buffer, kwds)\n",
      "File \u001b[1;32m~\\anaconda3\\Lib\\site-packages\\pandas\\io\\parsers\\readers.py:620\u001b[0m, in \u001b[0;36m_read\u001b[1;34m(filepath_or_buffer, kwds)\u001b[0m\n\u001b[0;32m    617\u001b[0m _validate_names(kwds\u001b[38;5;241m.\u001b[39mget(\u001b[38;5;124m\"\u001b[39m\u001b[38;5;124mnames\u001b[39m\u001b[38;5;124m\"\u001b[39m, \u001b[38;5;28;01mNone\u001b[39;00m))\n\u001b[0;32m    619\u001b[0m \u001b[38;5;66;03m# Create the parser.\u001b[39;00m\n\u001b[1;32m--> 620\u001b[0m parser \u001b[38;5;241m=\u001b[39m TextFileReader(filepath_or_buffer, \u001b[38;5;241m*\u001b[39m\u001b[38;5;241m*\u001b[39mkwds)\n\u001b[0;32m    622\u001b[0m \u001b[38;5;28;01mif\u001b[39;00m chunksize \u001b[38;5;129;01mor\u001b[39;00m iterator:\n\u001b[0;32m    623\u001b[0m     \u001b[38;5;28;01mreturn\u001b[39;00m parser\n",
      "File \u001b[1;32m~\\anaconda3\\Lib\\site-packages\\pandas\\io\\parsers\\readers.py:1620\u001b[0m, in \u001b[0;36mTextFileReader.__init__\u001b[1;34m(self, f, engine, **kwds)\u001b[0m\n\u001b[0;32m   1617\u001b[0m     \u001b[38;5;28mself\u001b[39m\u001b[38;5;241m.\u001b[39moptions[\u001b[38;5;124m\"\u001b[39m\u001b[38;5;124mhas_index_names\u001b[39m\u001b[38;5;124m\"\u001b[39m] \u001b[38;5;241m=\u001b[39m kwds[\u001b[38;5;124m\"\u001b[39m\u001b[38;5;124mhas_index_names\u001b[39m\u001b[38;5;124m\"\u001b[39m]\n\u001b[0;32m   1619\u001b[0m \u001b[38;5;28mself\u001b[39m\u001b[38;5;241m.\u001b[39mhandles: IOHandles \u001b[38;5;241m|\u001b[39m \u001b[38;5;28;01mNone\u001b[39;00m \u001b[38;5;241m=\u001b[39m \u001b[38;5;28;01mNone\u001b[39;00m\n\u001b[1;32m-> 1620\u001b[0m \u001b[38;5;28mself\u001b[39m\u001b[38;5;241m.\u001b[39m_engine \u001b[38;5;241m=\u001b[39m \u001b[38;5;28mself\u001b[39m\u001b[38;5;241m.\u001b[39m_make_engine(f, \u001b[38;5;28mself\u001b[39m\u001b[38;5;241m.\u001b[39mengine)\n",
      "File \u001b[1;32m~\\anaconda3\\Lib\\site-packages\\pandas\\io\\parsers\\readers.py:1880\u001b[0m, in \u001b[0;36mTextFileReader._make_engine\u001b[1;34m(self, f, engine)\u001b[0m\n\u001b[0;32m   1878\u001b[0m     \u001b[38;5;28;01mif\u001b[39;00m \u001b[38;5;124m\"\u001b[39m\u001b[38;5;124mb\u001b[39m\u001b[38;5;124m\"\u001b[39m \u001b[38;5;129;01mnot\u001b[39;00m \u001b[38;5;129;01min\u001b[39;00m mode:\n\u001b[0;32m   1879\u001b[0m         mode \u001b[38;5;241m+\u001b[39m\u001b[38;5;241m=\u001b[39m \u001b[38;5;124m\"\u001b[39m\u001b[38;5;124mb\u001b[39m\u001b[38;5;124m\"\u001b[39m\n\u001b[1;32m-> 1880\u001b[0m \u001b[38;5;28mself\u001b[39m\u001b[38;5;241m.\u001b[39mhandles \u001b[38;5;241m=\u001b[39m get_handle(\n\u001b[0;32m   1881\u001b[0m     f,\n\u001b[0;32m   1882\u001b[0m     mode,\n\u001b[0;32m   1883\u001b[0m     encoding\u001b[38;5;241m=\u001b[39m\u001b[38;5;28mself\u001b[39m\u001b[38;5;241m.\u001b[39moptions\u001b[38;5;241m.\u001b[39mget(\u001b[38;5;124m\"\u001b[39m\u001b[38;5;124mencoding\u001b[39m\u001b[38;5;124m\"\u001b[39m, \u001b[38;5;28;01mNone\u001b[39;00m),\n\u001b[0;32m   1884\u001b[0m     compression\u001b[38;5;241m=\u001b[39m\u001b[38;5;28mself\u001b[39m\u001b[38;5;241m.\u001b[39moptions\u001b[38;5;241m.\u001b[39mget(\u001b[38;5;124m\"\u001b[39m\u001b[38;5;124mcompression\u001b[39m\u001b[38;5;124m\"\u001b[39m, \u001b[38;5;28;01mNone\u001b[39;00m),\n\u001b[0;32m   1885\u001b[0m     memory_map\u001b[38;5;241m=\u001b[39m\u001b[38;5;28mself\u001b[39m\u001b[38;5;241m.\u001b[39moptions\u001b[38;5;241m.\u001b[39mget(\u001b[38;5;124m\"\u001b[39m\u001b[38;5;124mmemory_map\u001b[39m\u001b[38;5;124m\"\u001b[39m, \u001b[38;5;28;01mFalse\u001b[39;00m),\n\u001b[0;32m   1886\u001b[0m     is_text\u001b[38;5;241m=\u001b[39mis_text,\n\u001b[0;32m   1887\u001b[0m     errors\u001b[38;5;241m=\u001b[39m\u001b[38;5;28mself\u001b[39m\u001b[38;5;241m.\u001b[39moptions\u001b[38;5;241m.\u001b[39mget(\u001b[38;5;124m\"\u001b[39m\u001b[38;5;124mencoding_errors\u001b[39m\u001b[38;5;124m\"\u001b[39m, \u001b[38;5;124m\"\u001b[39m\u001b[38;5;124mstrict\u001b[39m\u001b[38;5;124m\"\u001b[39m),\n\u001b[0;32m   1888\u001b[0m     storage_options\u001b[38;5;241m=\u001b[39m\u001b[38;5;28mself\u001b[39m\u001b[38;5;241m.\u001b[39moptions\u001b[38;5;241m.\u001b[39mget(\u001b[38;5;124m\"\u001b[39m\u001b[38;5;124mstorage_options\u001b[39m\u001b[38;5;124m\"\u001b[39m, \u001b[38;5;28;01mNone\u001b[39;00m),\n\u001b[0;32m   1889\u001b[0m )\n\u001b[0;32m   1890\u001b[0m \u001b[38;5;28;01massert\u001b[39;00m \u001b[38;5;28mself\u001b[39m\u001b[38;5;241m.\u001b[39mhandles \u001b[38;5;129;01mis\u001b[39;00m \u001b[38;5;129;01mnot\u001b[39;00m \u001b[38;5;28;01mNone\u001b[39;00m\n\u001b[0;32m   1891\u001b[0m f \u001b[38;5;241m=\u001b[39m \u001b[38;5;28mself\u001b[39m\u001b[38;5;241m.\u001b[39mhandles\u001b[38;5;241m.\u001b[39mhandle\n",
      "File \u001b[1;32m~\\anaconda3\\Lib\\site-packages\\pandas\\io\\common.py:873\u001b[0m, in \u001b[0;36mget_handle\u001b[1;34m(path_or_buf, mode, encoding, compression, memory_map, is_text, errors, storage_options)\u001b[0m\n\u001b[0;32m    868\u001b[0m \u001b[38;5;28;01melif\u001b[39;00m \u001b[38;5;28misinstance\u001b[39m(handle, \u001b[38;5;28mstr\u001b[39m):\n\u001b[0;32m    869\u001b[0m     \u001b[38;5;66;03m# Check whether the filename is to be opened in binary mode.\u001b[39;00m\n\u001b[0;32m    870\u001b[0m     \u001b[38;5;66;03m# Binary mode does not support 'encoding' and 'newline'.\u001b[39;00m\n\u001b[0;32m    871\u001b[0m     \u001b[38;5;28;01mif\u001b[39;00m ioargs\u001b[38;5;241m.\u001b[39mencoding \u001b[38;5;129;01mand\u001b[39;00m \u001b[38;5;124m\"\u001b[39m\u001b[38;5;124mb\u001b[39m\u001b[38;5;124m\"\u001b[39m \u001b[38;5;129;01mnot\u001b[39;00m \u001b[38;5;129;01min\u001b[39;00m ioargs\u001b[38;5;241m.\u001b[39mmode:\n\u001b[0;32m    872\u001b[0m         \u001b[38;5;66;03m# Encoding\u001b[39;00m\n\u001b[1;32m--> 873\u001b[0m         handle \u001b[38;5;241m=\u001b[39m \u001b[38;5;28mopen\u001b[39m(\n\u001b[0;32m    874\u001b[0m             handle,\n\u001b[0;32m    875\u001b[0m             ioargs\u001b[38;5;241m.\u001b[39mmode,\n\u001b[0;32m    876\u001b[0m             encoding\u001b[38;5;241m=\u001b[39mioargs\u001b[38;5;241m.\u001b[39mencoding,\n\u001b[0;32m    877\u001b[0m             errors\u001b[38;5;241m=\u001b[39merrors,\n\u001b[0;32m    878\u001b[0m             newline\u001b[38;5;241m=\u001b[39m\u001b[38;5;124m\"\u001b[39m\u001b[38;5;124m\"\u001b[39m,\n\u001b[0;32m    879\u001b[0m         )\n\u001b[0;32m    880\u001b[0m     \u001b[38;5;28;01melse\u001b[39;00m:\n\u001b[0;32m    881\u001b[0m         \u001b[38;5;66;03m# Binary mode\u001b[39;00m\n\u001b[0;32m    882\u001b[0m         handle \u001b[38;5;241m=\u001b[39m \u001b[38;5;28mopen\u001b[39m(handle, ioargs\u001b[38;5;241m.\u001b[39mmode)\n",
      "\u001b[1;31mFileNotFoundError\u001b[0m: [Errno 2] No such file or directory: '40B20-21data.txt'"
     ]
    }
   ],
   "source": [
    "# read in with pandas\n",
    "winter1 = pd.read_csv ('40B20-21data.txt')\n",
    "winter2 = pd.read_csv ('40B21-22data.txt')\n",
    "winter3 = pd.read_csv ('40B22-23data.txt')"
   ]
  },
  {
   "cell_type": "code",
   "execution_count": null,
   "id": "aa220958-a440-4b52-8670-f6228613bc11",
   "metadata": {},
   "outputs": [],
   "source": [
    "# rename columns\n",
    "winter1 = winter1.rename(columns = {'valid': 'datetime', 'p01m': 'precip(mm)'})\n",
    "winter2 = winter2.rename(columns = {'valid': 'datetime', 'p01m': 'precip(mm)'})\n",
    "winter3 = winter3.rename(columns = {'valid': 'datetime', 'p01m': 'precip(mm)'})\n",
    "\n",
    "# datetime format\n",
    "winter1['datetime'] = pd.to_datetime(winter1['datetime'])\n",
    "winter2['datetime'] = pd.to_datetime(winter2['datetime'])\n",
    "winter3['datetime'] = pd.to_datetime(winter3['datetime'])"
   ]
  },
  {
   "cell_type": "code",
   "execution_count": null,
   "id": "02861934-a851-4293-9bf4-6e42a4ad420f",
   "metadata": {},
   "outputs": [],
   "source": [
    "# mask out days without precipitation\n",
    "codes = ['GS','IC','PL','SG','SN']\n",
    "\n",
    "mask1 = winter1['wxcodes'].apply(lambda x: any(sub in x for sub in codes))\n",
    "mask2 = winter2['wxcodes'].apply(lambda x: any(sub in x for sub in codes))\n",
    "mask3 = winter3['wxcodes'].apply(lambda x: any(sub in x for sub in codes))\n",
    "\n",
    "precip_days1 = winter1[mask1]\n",
    "precip_days2 = winter2[mask2]\n",
    "precip_days3 = winter3[mask3]"
   ]
  },
  {
   "cell_type": "code",
   "execution_count": null,
   "id": "ba61182e-b5d1-46d1-9bcc-2931a4b49de9",
   "metadata": {},
   "outputs": [],
   "source": [
    "# replace Trace with 0.0001\n",
    "precip_days1['precip(mm)'] = precip_days1['precip(mm)'].replace('T', 0.0001)\n",
    "precip_days2['precip(mm)'] = precip_days2['precip(mm)'].replace('T', 0.0001)\n",
    "precip_days3['precip(mm)'] = precip_days3['precip(mm)'].replace('T', 0.0001)"
   ]
  },
  {
   "cell_type": "code",
   "execution_count": null,
   "id": "f7bf26c0-c6ec-4220-bf4d-029b4023bb64",
   "metadata": {},
   "outputs": [],
   "source": [
    "# make sure numeric form\n",
    "precip_days1['precip(mm)'] = pd.to_numeric(precip_days1['precip(mm)'])\n",
    "precip_days2['precip(mm)'] = pd.to_numeric(precip_days2['precip(mm)'])\n",
    "precip_days3['precip(mm)'] = pd.to_numeric(precip_days3['precip(mm)'])"
   ]
  },
  {
   "cell_type": "code",
   "execution_count": null,
   "id": "96430996-0103-4a0b-a934-5999414d9dc4",
   "metadata": {},
   "outputs": [],
   "source": [
    "# eliminate special weather \n",
    "precip_days1 = precip_days1[precip_days1['datetime'].dt.minute == 56]\n",
    "precip_days2 = precip_days2[precip_days2['datetime'].dt.minute == 56]\n",
    "precip_days3 = precip_days3[precip_days3['datetime'].dt.minute == 56]"
   ]
  },
  {
   "cell_type": "code",
   "execution_count": null,
   "id": "31727dbe-474e-4e9d-af86-972e35a35a47",
   "metadata": {},
   "outputs": [],
   "source": [
    "precip_days1.dtypes"
   ]
  },
  {
   "cell_type": "code",
   "execution_count": null,
   "id": "1733092c-435e-4512-bfce-9a46cdc5d820",
   "metadata": {},
   "outputs": [],
   "source": [
    "precip_days1['date'] = precip_days1['datetime'].dt.date"
   ]
  },
  {
   "cell_type": "code",
   "execution_count": null,
   "id": "6fa5a02b-6f8a-40c7-ae94-7226bee0b0ae",
   "metadata": {},
   "outputs": [],
   "source": [
    "gon = LocationInfo(\n",
    "    'Groton', 'Connecticut', \n",
    "    latitude=41.3482,  \n",
    "    longitude=-72.0787,\n",
    "    timezone='America/Connecticut'\n",
    ")\n",
    "\n",
    "gon"
   ]
  },
  {
   "cell_type": "code",
   "execution_count": null,
   "id": "9354cc9b-4150-4bd8-8fad-388832a24d95",
   "metadata": {},
   "outputs": [],
   "source": [
    "# create a date range (winter 1)\n",
    "date_range1 = pd.date_range(start='2020-12-01', end='2021-2-28', tz='America/New_York')\n",
    "\n",
    "# lists to store sunrise and sunset times\n",
    "sunrise_times1 = []\n",
    "sunset_times1 = []\n",
    "\n",
    "# Calculate sunrise and sunset for each date\n",
    "for date in date_range1:\n",
    "    s = sun(gon.observer, date=date)\n",
    "    \n",
    "    sunrise_times1.append(s['sunrise'])\n",
    "    sunset_times1.append(s['sunset'])\n",
    "\n",
    "# df with results\n",
    "sun_times1 = pd.DataFrame({\n",
    "    'datetime': date_range1.date,\n",
    "    'sunrise': sunrise_times1,\n",
    "    'sunset': sunset_times1\n",
    "})\n",
    "\n",
    "sun_times1['sunrise'] = pd.to_datetime(sun_times1['sunrise'])\n",
    "sun_times1['sunset'] = pd.to_datetime(sun_times1['sunset'])"
   ]
  },
  {
   "cell_type": "code",
   "execution_count": null,
   "id": "582f8b04-5a87-416d-9832-ef85e54fc03f",
   "metadata": {},
   "outputs": [],
   "source": [
    "# create a date range (winter 2)\n",
    "date_range2 = pd.date_range(start='2021-12-01', end='2022-2-28', tz='America/New_York')\n",
    "\n",
    "# lists to store sunrise and sunset times\n",
    "sunrise_times2 = []\n",
    "sunset_times2 = []\n",
    "\n",
    "# Calculate sunrise and sunset for each date\n",
    "for date in date_range2:\n",
    "    s = sun(gon.observer, date=date)\n",
    "    \n",
    "    sunrise_times2.append(s['sunrise'])\n",
    "    sunset_times2.append(s['sunset'])\n",
    "\n",
    "# df with results\n",
    "sun_times2 = pd.DataFrame({\n",
    "    'datetime': date_range2.date,\n",
    "    'sunrise': sunrise_times2,\n",
    "    'sunset': sunset_times2\n",
    "})\n",
    "\n",
    "sun_times2['sunrise'] = pd.to_datetime(sun_times2['sunrise'])\n",
    "sun_times2['sunset'] = pd.to_datetime(sun_times2['sunset'])"
   ]
  },
  {
   "cell_type": "code",
   "execution_count": null,
   "id": "58b27a6e-1ebf-4d5c-a3af-b29f4a261ee7",
   "metadata": {
    "scrolled": true
   },
   "outputs": [],
   "source": [
    "# create a date range (winter 3)\n",
    "date_range3 = pd.date_range(start='2022-12-01', end='2023-2-28', tz='America/New_York')\n",
    "\n",
    "# lists to store sunrise and sunset times\n",
    "sunrise_times3 = []\n",
    "sunset_times3 = []\n",
    "\n",
    "# Calculate sunrise and sunset for each date\n",
    "for date in date_range3:\n",
    "    s = sun(gon.observer, date=date)\n",
    "    \n",
    "    sunrise_times3.append(s['sunrise'])\n",
    "    sunset_times3.append(s['sunset'])\n",
    "\n",
    "# df with results\n",
    "sun_times3 = pd.DataFrame({\n",
    "    'datetime': date_range3.date,\n",
    "    'sunrise': sunrise_times3,\n",
    "    'sunset': sunset_times3\n",
    "})\n",
    "\n",
    "sun_times3['sunrise'] = pd.to_datetime(sun_times3['sunrise'])\n",
    "sun_times3['sunset'] = pd.to_datetime(sun_times3['sunset'])"
   ]
  },
  {
   "cell_type": "code",
   "execution_count": null,
   "id": "4cfb6512-300f-47ad-801b-c4af8feadf3c",
   "metadata": {},
   "outputs": [],
   "source": [
    "# add sunrise and sunset times (winter1)\n",
    "sun_times1['sunrise'] = sun_times1['sunrise'].dt.strftime('%Y-%m-%d %H:%M:%S')\n",
    "sun_times1['sunset'] = sun_times1['sunset'].dt.strftime('%Y-%m-%d %H:%M:%S')\n",
    "\n",
    "sun_times1['date'] = sun_times1['datetime']\n",
    "sun_times1 = sun_times1.drop(columns=['datetime'])\n",
    "\n",
    "print(sun_times1)"
   ]
  },
  {
   "cell_type": "code",
   "execution_count": null,
   "id": "1c93f488-7ff7-43e4-99bc-04599ecf0cfc",
   "metadata": {},
   "outputs": [],
   "source": [
    "# add sunrise and sunset times (winter2)\n",
    "\n",
    "sun_times2['sunrise'] = sun_times2['sunrise'].dt.strftime('%Y-%m-%d %H:%M:%S')\n",
    "sun_times2['sunset'] = sun_times2['sunset'].dt.strftime('%Y-%m-%d %H:%M:%S')\n",
    "\n",
    "sun_times2['date'] = sun_times2['datetime']\n",
    "sun_times2 = sun_times2.drop(columns=['datetime'])\n",
    "\n",
    "print(sun_times2)"
   ]
  },
  {
   "cell_type": "code",
   "execution_count": null,
   "id": "07950101-6cd6-42a1-a77a-4a67cfe6ea3b",
   "metadata": {},
   "outputs": [],
   "source": [
    "# add sunrise and sunset times (winter3)\n",
    "\n",
    "sun_times3['sunrise'] = sun_times3['sunrise'].dt.strftime('%Y-%m-%d %H:%M:%S')\n",
    "sun_times3['sunset'] = sun_times3['sunset'].dt.strftime('%Y-%m-%d %H:%M:%S')\n",
    "\n",
    "sun_times3['date'] = sun_times3['datetime']\n",
    "sun_times3 = sun_times3.drop(columns=['datetime'])\n",
    "\n",
    "print(sun_times3)"
   ]
  },
  {
   "cell_type": "code",
   "execution_count": null,
   "id": "8de3d34f-db51-4f6a-873c-82ef82ecd10f",
   "metadata": {},
   "outputs": [],
   "source": [
    "# add 'date' column to all dataframes\n",
    "precip_days1['date'] = precip_days1['datetime'].dt.date\n",
    "precip_days2['date'] = precip_days2['datetime'].dt.date\n",
    "precip_days3['date'] = precip_days3['datetime'].dt.date"
   ]
  },
  {
   "cell_type": "code",
   "execution_count": null,
   "id": "99dcd456-811d-4322-a50d-f89f3c7f7e37",
   "metadata": {},
   "outputs": [],
   "source": [
    "# merge precip days and sunrise/sunset times on date \n",
    "merged1 = pd.merge(precip_days1, sun_times1, on='date')\n",
    "\n",
    "merged1"
   ]
  },
  {
   "cell_type": "code",
   "execution_count": null,
   "id": "43dafb11-c8d7-4667-834f-37dda8fe3a5e",
   "metadata": {
    "scrolled": true
   },
   "outputs": [],
   "source": [
    "# merge precip days and sunrise/sunset times on date \n",
    "merged2 = pd.merge(precip_days2, sun_times2, on='date')\n",
    "\n",
    "merged2"
   ]
  },
  {
   "cell_type": "code",
   "execution_count": null,
   "id": "c6b0bda0-950e-4d6e-98c4-0ba707a2d3bc",
   "metadata": {},
   "outputs": [],
   "source": [
    "# merge precip days and sunrise/sunset times on date \n",
    "merged3 = pd.merge(precip_days3, sun_times3, on='date')\n",
    "\n",
    "merged3"
   ]
  },
  {
   "cell_type": "code",
   "execution_count": null,
   "id": "b870b4cf-8488-4625-9f5b-9b228d355c60",
   "metadata": {},
   "outputs": [],
   "source": [
    "# filter out only times after sunrise & before sunset \n",
    "\n",
    "days1 = merged1[(merged1['datetime'] >= merged1['sunrise']) & (merged1['datetime'] <= merged1['sunset'])]\n",
    "days2 = merged2[(merged2['datetime'] >= merged2['sunrise']) & (merged2['datetime'] <= merged2['sunset'])]\n",
    "days3 = merged3[(merged3['datetime'] >= merged3['sunrise']) & (merged3['datetime'] <= merged3['sunset'])]\n",
    "\n",
    "\n",
    "days1"
   ]
  },
  {
   "cell_type": "code",
   "execution_count": null,
   "id": "e9b1e62f-be7f-4e27-b229-a6f88c46587b",
   "metadata": {},
   "outputs": [],
   "source": [
    "# filter out transition hours\n",
    "days1['sunrise'] = pd.to_datetime(days1['sunrise'])\n",
    "days1['sunset'] = pd.to_datetime(days1['sunset'])\n",
    "\n",
    "days1['sunrise+1'] = days1['sunrise'] + timedelta(hours = 1)\n",
    "days1['sunset-1'] = days1['sunset'] - timedelta(hours = 1)\n",
    "\n",
    "days1 = days1[days1['datetime'] <= days1['sunset-1']]\n",
    "days1 = days1[days1['datetime'] >= days1['sunrise+1']]\n",
    "\n",
    "\n",
    "\n",
    "days2['sunrise'] = pd.to_datetime(days2['sunrise'])\n",
    "days2['sunset'] = pd.to_datetime(days2['sunset'])\n",
    "\n",
    "days2['sunrise+1'] = days2['sunrise'] + timedelta(hours = 1)\n",
    "days2['sunset-1'] = days2['sunset'] - timedelta(hours = 1)\n",
    "\n",
    "days2 = days2[days2['datetime'] <= days2['sunset-1']]\n",
    "days2 = days2[days2['datetime'] >= days2['sunrise+1']]\n",
    "\n",
    "\n",
    "\n",
    "days3['sunrise'] = pd.to_datetime(days3['sunrise'])\n",
    "days3['sunset'] = pd.to_datetime(days3['sunset'])\n",
    "\n",
    "days3['sunrise+1'] = days3['sunrise'] + timedelta(hours = 1)\n",
    "days3['sunset-1'] = days3['sunset'] - timedelta(hours = 1)\n",
    "\n",
    "days3 = days3[days3['datetime'] <= days3['sunset-1']]\n",
    "days3 = days3[days3['datetime'] >= days3['sunrise+1']]"
   ]
  },
  {
   "cell_type": "code",
   "execution_count": null,
   "id": "df60be4f-8b6a-43dc-8150-7915b11e550a",
   "metadata": {},
   "outputs": [],
   "source": [
    "days1"
   ]
  },
  {
   "cell_type": "code",
   "execution_count": null,
   "id": "202cd5ed-3dd7-4341-b738-fc2d2c095a5c",
   "metadata": {},
   "outputs": [],
   "source": [
    "# find total precip over each year\n",
    "day_total1 = days1['precip(mm)'].sum()\n",
    "day_total2 = days2['precip(mm)'].sum()\n",
    "day_total3 = days3['precip(mm)'].sum()\n",
    "\n",
    "# total number of obs each year\n",
    "day_rows1 = days1.shape[0]\n",
    "day_rows2 = days2.shape[0]\n",
    "day_rows3 = days3.shape[0]"
   ]
  },
  {
   "cell_type": "code",
   "execution_count": null,
   "id": "ab51adbf-af79-4c2a-a558-1ab2981befa3",
   "metadata": {},
   "outputs": [],
   "source": [
    "day_precip_per_hour1 = day_total1/ day_rows1\n",
    "day_precip_per_hour2 = day_total2/ day_rows2\n",
    "day_precip_per_hour3 = day_total3/ day_rows3"
   ]
  },
  {
   "cell_type": "code",
   "execution_count": null,
   "id": "f5e917b5-4d22-420c-b8f9-9acba14445ff",
   "metadata": {},
   "outputs": [],
   "source": [
    "print('2020-2021:', day_precip_per_hour1)\n",
    "print('2021-2022:', day_precip_per_hour2)\n",
    "print('2022-2023:', day_precip_per_hour3)"
   ]
  },
  {
   "cell_type": "code",
   "execution_count": null,
   "id": "207b870c-a63e-482e-91f5-6c8ca91dff82",
   "metadata": {},
   "outputs": [],
   "source": [
    "# filter out only times after sunset & before NEXT sunrise \n",
    "\n",
    "nights1 = merged1[(merged1['datetime'] < merged1['sunrise']) | (merged1['datetime'] > merged1['sunset'])]\n",
    "nights2 = merged2[(merged2['datetime'] < merged2['sunrise']) | (merged2['datetime'] > merged2['sunset'])]\n",
    "nights3 = merged3[(merged3['datetime'] < merged3['sunrise']) | (merged3['datetime'] > merged3['sunset'])]\n",
    "\n",
    "nights1"
   ]
  },
  {
   "cell_type": "code",
   "execution_count": null,
   "id": "4ab82503-26a0-4450-821a-d5abb9c8e7ca",
   "metadata": {
    "scrolled": true
   },
   "outputs": [],
   "source": [
    "# filter out transition hours\n",
    "nights1['sunrise'] = pd.to_datetime(nights1['sunrise'])\n",
    "nights1['sunset'] = pd.to_datetime(nights1['sunset'])\n",
    "\n",
    "nights1['sunrise-1'] = nights1['sunrise'] - timedelta(hours = 1) + timedelta(days = 1)\n",
    "nights1['sunset+1'] = nights1['sunset'] + timedelta(hours = 1)\n",
    "\n",
    "nights1 = nights1[nights1['datetime'] >= nights1['sunset+1']]\n",
    "nights1 = nights1[nights1['datetime'] <= nights1['sunrise-1']]\n",
    "\n",
    "\n",
    "\n",
    "nights2['sunrise'] = pd.to_datetime(nights2['sunrise'])\n",
    "nights2['sunset'] = pd.to_datetime(nights2['sunset'])\n",
    "\n",
    "nights2['sunrise-1'] = nights2['sunrise'] - timedelta(hours = 1) + timedelta(days = 1)\n",
    "nights2['sunset+1'] = nights2['sunset'] + timedelta(hours = 1)\n",
    "\n",
    "nights2 = nights2[nights2['datetime'] >= nights2['sunset+1']]\n",
    "nights2 = nights2[nights2['datetime'] <= nights2['sunrise-1']]\n",
    "\n",
    "\n",
    "\n",
    "nights3['sunrise'] = pd.to_datetime(nights3['sunrise'])\n",
    "nights3['sunset'] = pd.to_datetime(nights3['sunset'])\n",
    "\n",
    "nights3['sunrise-1'] = nights3['sunrise'] - timedelta(hours = 1) + timedelta(days = 1)\n",
    "nights3['sunset+1'] = nights3['sunset'] + timedelta(hours = 1)\n",
    "\n",
    "nights3 = nights3[nights3['datetime'] >= nights3['sunset+1']]\n",
    "nights3 = nights3[nights3['datetime'] <= nights3['sunrise-1']]\n"
   ]
  },
  {
   "cell_type": "code",
   "execution_count": null,
   "id": "a05fe8d6-a247-4662-b953-117be9c9adb5",
   "metadata": {},
   "outputs": [],
   "source": [
    "# find total precip over each year\n",
    "night_total1 = nights1['precip(mm)'].sum()\n",
    "night_total2 = nights2['precip(mm)'].sum()\n",
    "night_total3 = nights3['precip(mm)'].sum()\n",
    "\n",
    "# total number of obs each year\n",
    "night_rows1 = nights1.shape[0]\n",
    "night_rows2 = nights2.shape[0]\n",
    "night_rows3 = nights3.shape[0]"
   ]
  },
  {
   "cell_type": "code",
   "execution_count": null,
   "id": "aa4722d8-3dc3-444b-ac66-9cc5420dbf75",
   "metadata": {},
   "outputs": [],
   "source": [
    "night_precip_per_hour1 = night_total1/ night_rows1\n",
    "night_precip_per_hour2 = night_total2/ night_rows2\n",
    "night_precip_per_hour3 = night_total3/ night_rows3"
   ]
  },
  {
   "cell_type": "code",
   "execution_count": null,
   "id": "ad378374-358e-43cd-a2a2-1e41cb5d660b",
   "metadata": {},
   "outputs": [],
   "source": [
    "print('2020-2021:', night_precip_per_hour1)\n",
    "print('2021-2022:', night_precip_per_hour2)\n",
    "print('2022-2023:', night_precip_per_hour3)"
   ]
  },
  {
   "cell_type": "code",
   "execution_count": null,
   "id": "6f8b83e9-ba8b-4e64-b374-ab66810514b9",
   "metadata": {},
   "outputs": [],
   "source": []
  },
  {
   "cell_type": "code",
   "execution_count": null,
   "id": "d8ccd552-72ec-4abf-aa07-eaebc44570ba",
   "metadata": {},
   "outputs": [],
   "source": []
  }
 ],
 "metadata": {
  "kernelspec": {
   "display_name": "Python 3 (ipykernel)",
   "language": "python",
   "name": "python3"
  },
  "language_info": {
   "codemirror_mode": {
    "name": "ipython",
    "version": 3
   },
   "file_extension": ".py",
   "mimetype": "text/x-python",
   "name": "python",
   "nbconvert_exporter": "python",
   "pygments_lexer": "ipython3",
   "version": "3.12.3"
  }
 },
 "nbformat": 4,
 "nbformat_minor": 5
}
